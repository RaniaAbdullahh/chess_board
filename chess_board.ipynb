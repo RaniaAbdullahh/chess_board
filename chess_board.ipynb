{
 "cells": [
  {
   "cell_type": "code",
   "execution_count": 1,
   "metadata": {},
   "outputs": [],
   "source": [
    "import numpy as np\n",
    "import matplotlib.pyplot as plot\n",
    "import matplotlib.image as mpimg"
   ]
  },
  {
   "cell_type": "code",
   "execution_count": 72,
   "metadata": {},
   "outputs": [],
   "source": [
    "class ChessBoard:\n",
    "    red = [1,.2,0]\n",
    "    blue = [0,0,1]\n",
    "    white = [1,1,1]\n",
    "    def __init__(self):\n",
    "         self.grid = np.zeros([8,8,3])\n",
    "         for i in range(8):\n",
    "            for j in range(8):\n",
    "                if(i%2 !=0 and j%2 != 0) or (i%2 ==0 and j%2 ==0):\n",
    "                    self.grid[i,j]=ChessBoard.white  \n",
    "                    \n",
    "    def add_red(self,row,col):\n",
    "        for i in range(8):\n",
    "            for j in range(8):\n",
    "                self.grid[row,col]=ChessBoard.red  \n",
    "                \n",
    "    def add_blue(self,row,col):\n",
    "        for i in range(8):\n",
    "            for j in range(8):\n",
    "                self.grid[row,col]=ChessBoard.blue        \n",
    "    def render(self):\n",
    "        plot.imshow(self.grid)\n",
    "        \n",
    "    def is_under_attack(self,Rrow,Rcol,Brow,Bcol):\n",
    "        if(Rrow == Brow):\n",
    "            return True\n",
    "        elif(Rcol == Bcol):\n",
    "            return True\n",
    "        elif((Rcol-Rrow)==(Bcol-Brow)):\n",
    "            return True\n",
    "        elif((Rrow-Brow)==(Bcol-Rcol)):\n",
    "            return True\n",
    "        else:\n",
    "            return False     "
   ]
  },
  {
   "cell_type": "code",
   "execution_count": 73,
   "metadata": {},
   "outputs": [
    {
     "name": "stdout",
     "output_type": "stream",
     "text": [
      "True\n"
     ]
    },
    {
     "data": {
      "image/png": "[encoded data removed]",
      "text/plain": [
       "<Figure size 432x288 with 1 Axes>"
      ]
     },
     "metadata": {
      "needs_background": "light"
     },
     "output_type": "display_data"
    }
   ],
   "source": [
    "board=ChessBoard()\n",
    "board.add_red(1,3)\n",
    "board.add_blue(5,6)\n",
    "board.render()\n",
    "print(board.is_under_attack(1,3,5,7))"
   ]
  },
  {
   "cell_type": "code",
   "execution_count": 74,
   "metadata": {},
   "outputs": [
    {
     "name": "stdout",
     "output_type": "stream",
     "text": [
      "__PASSED__\n"
     ]
    }
   ],
   "source": [
    "def horiz_test():\n",
    "    board = ChessBoard()\n",
    "    horizontal = board.is_under_attack(4,1,4,6)\n",
    "    assert horizontal == True\n",
    "    print('__PASSED__')\n",
    "queens_tests()    "
   ]
  },
  {
   "cell_type": "code",
   "execution_count": 52,
   "metadata": {},
   "outputs": [
    {
     "name": "stdout",
     "output_type": "stream",
     "text": [
      "__PASSED__\n"
     ]
    }
   ],
   "source": [
    "def virtical_test():\n",
    "    board = ChessBoard()\n",
    "    vertical = board.is_under_attack(1,7,1,2)\n",
    "    assert vertical == True\n",
    "    print('__PASSED__')\n",
    "virtical_test()  "
   ]
  },
  {
   "cell_type": "code",
   "execution_count": 55,
   "metadata": {},
   "outputs": [
    {
     "name": "stdout",
     "output_type": "stream",
     "text": [
      "__PASSED__\n"
     ]
    }
   ],
   "source": [
    "def diagonal_test():\n",
    "    board = ChessBoard()\n",
    "    diagonal = board.is_under_attack(1,3,5,7)\n",
    "    assert diagonal == True\n",
    "    print('__PASSED__')\n",
    "diagonal_test()    "
   ]
  },
  {
   "cell_type": "code",
   "execution_count": 75,
   "metadata": {},
   "outputs": [
    {
     "name": "stdout",
     "output_type": "stream",
     "text": [
      "__PASSED__\n"
     ]
    }
   ],
   "source": [
    "def not_attacked_test():\n",
    "    board = ChessBoard()\n",
    "    not_attacked = board.is_under_attack(6,2,4,5)\n",
    "    assert not_attacked == False\n",
    "    print('__PASSED__')\n",
    "not_attacked_test()    "
   ]
  },
  {
   "cell_type": "code",
   "execution_count": null,
   "metadata": {},
   "outputs": [],
   "source": []
  }
 ],
 "metadata": {
  "kernelspec": {
   "display_name": "Python 3",
   "language": "python",
   "name": "python3"
  },
  "language_info": {
   "codemirror_mode": {
    "name": "ipython",
    "version": 3
   },
   "file_extension": ".py",
   "mimetype": "text/x-python",
   "name": "python",
   "nbconvert_exporter": "python",
   "pygments_lexer": "ipython3",
   "version": "3.9.0"
  }
 },
 "nbformat": 4,
 "nbformat_minor": 4
}
